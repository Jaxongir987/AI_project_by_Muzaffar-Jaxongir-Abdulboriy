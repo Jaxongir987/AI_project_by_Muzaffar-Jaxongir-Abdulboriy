{
 "cells": [
  {
   "cell_type": "code",
   "execution_count": 2,
   "id": "aa487566",
   "metadata": {},
   "outputs": [
    {
     "name": "stdout",
     "output_type": "stream",
     "text": [
      "Bot: Hello! This is a reminder from your service provider.\n",
      "Bot: You have an unpaid bill due. Have you already paid it?\n",
      "Listening...\n",
      "User: no\n",
      "\n",
      "📞 Call Result: {'client_id': 10001, 'result': 'success', 'comment': 'customer needs help or follow-up'}\n"
     ]
    }
   ],
   "source": [
    "import pyttsx3\n",
    "import speech_recognition as sr\n",
    "import random\n",
    "\n",
    "# Initialize text-to-speech engine\n",
    "tts_engine = pyttsx3.init()\n",
    "\n",
    "# Function to speak\n",
    "def speak(text):\n",
    "    print(\"Bot:\", text)\n",
    "    tts_engine.say(text)\n",
    "    tts_engine.runAndWait()\n",
    "\n",
    "# Function to listen to the user's voice\n",
    "def listen():\n",
    "    recognizer = sr.Recognizer()\n",
    "    with sr.Microphone() as source:\n",
    "        print(\"Listening...\")\n",
    "        audio = recognizer.listen(source)\n",
    "        try:\n",
    "            response = recognizer.recognize_google(audio)\n",
    "            print(\"User:\", response)\n",
    "            return response.lower()\n",
    "        except sr.UnknownValueError:\n",
    "            print(\"Could not understand audio\")\n",
    "            return \"unknown\"\n",
    "        except sr.RequestError:\n",
    "            print(\"Speech recognition service error\")\n",
    "            return \"error\"\n",
    "\n",
    "# Simulate call to one customer\n",
    "def make_call(client_id):\n",
    "    speak(\"Hello! This is a reminder from your service provider.\")\n",
    "    speak(\"You have an unpaid bill due. Have you already paid it?\")\n",
    "    response = listen()\n",
    "\n",
    "    if \"yes\" in response:\n",
    "        result = \"success\"\n",
    "        comment = \"customer confirmed payment\"\n",
    "    elif \"no\" in response or \"not yet\" in response:\n",
    "        result = \"success\"\n",
    "        comment = \"customer needs help or follow-up\"\n",
    "    elif response in [\"unknown\", \"error\"]:\n",
    "        result = \"fail\"\n",
    "        comment = \"unreachable\"\n",
    "    else:\n",
    "        result = \"success\"\n",
    "        comment = \"customer received the information\"\n",
    "\n",
    "    return {\n",
    "        \"client_id\": client_id,\n",
    "        \"result\": result,\n",
    "        \"comment\": comment\n",
    "    }\n",
    "\n",
    "# Example call\n",
    "call_result = make_call(10001)\n",
    "print(\"\\n📞 Call Result:\", call_result)\n"
   ]
  }
 ],
 "metadata": {
  "kernelspec": {
   "display_name": "Python 3",
   "language": "python",
   "name": "python3"
  },
  "language_info": {
   "codemirror_mode": {
    "name": "ipython",
    "version": 3
   },
   "file_extension": ".py",
   "mimetype": "text/x-python",
   "name": "python",
   "nbconvert_exporter": "python",
   "pygments_lexer": "ipython3",
   "version": "3.11.9"
  }
 },
 "nbformat": 4,
 "nbformat_minor": 5
}
